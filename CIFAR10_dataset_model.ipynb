{
  "nbformat": 4,
  "nbformat_minor": 0,
  "metadata": {
    "colab": {
      "name": "CIFAR10-dataset-model",
      "provenance": []
    },
    "kernelspec": {
      "name": "python3",
      "display_name": "Python 3"
    },
    "accelerator": "GPU"
  },
  "cells": [
    {
      "cell_type": "code",
      "metadata": {
        "id": "Ajc-i8XbHP1Y",
        "colab_type": "code",
        "colab": {}
      },
      "source": [
        "from tensorflow import keras\n",
        "from tensorflow.keras import layers\n",
        "import tensorflow as tf\n",
        "from keras.datasets import cifar10\n",
        "from tensorflow.keras.models import Sequential\n",
        "from keras.layers import Dense, Dropout, Flatten, Conv2D,MaxPooling2D\n",
        "from pathlib import Path"
      ],
      "execution_count": 0,
      "outputs": []
    },
    {
      "cell_type": "markdown",
      "metadata": {
        "id": "U9fnNaSXJP3c",
        "colab_type": "text"
      },
      "source": [
        "## Loading the datasets"
      ]
    },
    {
      "cell_type": "code",
      "metadata": {
        "id": "oZnWFXWSJpBX",
        "colab_type": "code",
        "colab": {}
      },
      "source": [
        "(X_train, y_train), (X_test, y_test ) = cifar10.load_data()\n"
      ],
      "execution_count": 0,
      "outputs": []
    },
    {
      "cell_type": "markdown",
      "metadata": {
        "id": "Cm8N3CbWTei6",
        "colab_type": "text"
      },
      "source": [
        "## Preprocessing the Data"
      ]
    },
    {
      "cell_type": "code",
      "metadata": {
        "id": "Mq_u3TM6Vweu",
        "colab_type": "code",
        "colab": {}
      },
      "source": [
        "X_train = X_train.astype(\"float32\")\n",
        "X_test = X_test.astype(\"float32\")\n",
        "X_train = X_train/255\n",
        "X_test = X_test/255\n",
        "\n",
        "## Converting our labels from 0-9 to the array of the binary label with index to 1 whici is label and all other to zero\n",
        "y_train = keras.utils.to_categorical(y_train, 10)\n",
        "y_test = keras.utils.to_categorical(y_test, 10)\n"
      ],
      "execution_count": 0,
      "outputs": []
    },
    {
      "cell_type": "markdown",
      "metadata": {
        "id": "TJ4fj3liXe0h",
        "colab_type": "text"
      },
      "source": [
        "## Creatting the model"
      ]
    },
    {
      "cell_type": "code",
      "metadata": {
        "id": "x8Tb5X6NYYYN",
        "colab_type": "code",
        "outputId": "2dea7a36-7797-4329-c5d6-5fdf55fb6948",
        "colab": {
          "base_uri": "https://localhost:8080/",
          "height": 712
        }
      },
      "source": [
        "model = tf.keras.Sequential([\n",
        "\ttf.keras.layers.Conv2D(32, (3, 3), activation='relu', kernel_initializer='he_uniform', padding='same', input_shape=(32, 32, 3)),\n",
        "\ttf.keras.layers.Conv2D(32, (3, 3), activation='relu', kernel_initializer='he_uniform', padding='same'),\n",
        "\ttf.keras.layers.MaxPooling2D(2, 2),\n",
        "\ttf.keras.layers.Dropout(0.25),\n",
        "\ttf.keras.layers.Conv2D(64, (3, 3), activation='relu', kernel_initializer='he_uniform', padding='same'),\n",
        "\ttf.keras.layers.Conv2D(64, (3, 3), activation='relu', kernel_initializer='he_uniform', padding='same'),\n",
        "\ttf.keras.layers.MaxPooling2D(2, 2),\n",
        "\ttf.keras.layers.Dropout(0.25),\n",
        "\ttf.keras.layers.Conv2D(128, (3, 3), activation='relu', kernel_initializer='he_uniform', padding='same'),\n",
        "\ttf.keras.layers.Conv2D(128, (3, 3), activation='relu', kernel_initializer='he_uniform', padding='same'),\n",
        "\ttf.keras.layers.MaxPooling2D(2, 2),\n",
        "\ttf.keras.layers.Dropout(0.25),\n",
        "\ttf.keras.layers.Flatten(),\n",
        "\ttf.keras.layers.Dense(128, activation='relu', kernel_initializer='he_uniform'),\n",
        "\ttf.keras.layers.Dropout(0.5),\n",
        "\ttf.keras.layers.Dense(10, activation='softmax'),\n",
        "               \n",
        "])\n",
        "\n",
        "model.summary()"
      ],
      "execution_count": 68,
      "outputs": [
        {
          "output_type": "stream",
          "text": [
            "Model: \"sequential_5\"\n",
            "_________________________________________________________________\n",
            "Layer (type)                 Output Shape              Param #   \n",
            "=================================================================\n",
            "conv2d_30 (Conv2D)           (None, 32, 32, 32)        896       \n",
            "_________________________________________________________________\n",
            "conv2d_31 (Conv2D)           (None, 32, 32, 32)        9248      \n",
            "_________________________________________________________________\n",
            "max_pooling2d_15 (MaxPooling (None, 16, 16, 32)        0         \n",
            "_________________________________________________________________\n",
            "dropout_20 (Dropout)         (None, 16, 16, 32)        0         \n",
            "_________________________________________________________________\n",
            "conv2d_32 (Conv2D)           (None, 16, 16, 64)        18496     \n",
            "_________________________________________________________________\n",
            "conv2d_33 (Conv2D)           (None, 16, 16, 64)        36928     \n",
            "_________________________________________________________________\n",
            "max_pooling2d_16 (MaxPooling (None, 8, 8, 64)          0         \n",
            "_________________________________________________________________\n",
            "dropout_21 (Dropout)         (None, 8, 8, 64)          0         \n",
            "_________________________________________________________________\n",
            "conv2d_34 (Conv2D)           (None, 8, 8, 128)         73856     \n",
            "_________________________________________________________________\n",
            "conv2d_35 (Conv2D)           (None, 8, 8, 128)         147584    \n",
            "_________________________________________________________________\n",
            "max_pooling2d_17 (MaxPooling (None, 4, 4, 128)         0         \n",
            "_________________________________________________________________\n",
            "dropout_22 (Dropout)         (None, 4, 4, 128)         0         \n",
            "_________________________________________________________________\n",
            "flatten_5 (Flatten)          (None, 2048)              0         \n",
            "_________________________________________________________________\n",
            "dense_10 (Dense)             (None, 128)               262272    \n",
            "_________________________________________________________________\n",
            "dropout_23 (Dropout)         (None, 128)               0         \n",
            "_________________________________________________________________\n",
            "dense_11 (Dense)             (None, 10)                1290      \n",
            "=================================================================\n",
            "Total params: 550,570\n",
            "Trainable params: 550,570\n",
            "Non-trainable params: 0\n",
            "_________________________________________________________________\n"
          ],
          "name": "stdout"
        }
      ]
    },
    {
      "cell_type": "markdown",
      "metadata": {
        "id": "7pPOi2u6bgV_",
        "colab_type": "text"
      },
      "source": [
        "## Compiling the Neural Network "
      ]
    },
    {
      "cell_type": "code",
      "metadata": {
        "id": "v0H-GzPpbvcy",
        "colab_type": "code",
        "colab": {}
      },
      "source": [
        "from tensorflow.keras.optimizers import SGD\n",
        "\n",
        "opt = SGD(lr=0.001, momentum=0.9)\n",
        "model.compile(optimizer=opt,\n",
        "              loss='categorical_crossentropy',\n",
        "              metrics = ['accuracy']\n",
        "              )"
      ],
      "execution_count": 0,
      "outputs": []
    },
    {
      "cell_type": "markdown",
      "metadata": {
        "id": "rWg0KaaHb5K1",
        "colab_type": "text"
      },
      "source": [
        "## Training the model"
      ]
    },
    {
      "cell_type": "code",
      "metadata": {
        "id": "eMAm6e3Jb-Y-",
        "colab_type": "code",
        "outputId": "352a7849-8469-4bf9-a031-c92c515cbcb8",
        "colab": {
          "base_uri": "https://localhost:8080/",
          "height": 1000
        }
      },
      "source": [
        "history = model.fit(\n",
        "    X_train,\n",
        "    y_train,\n",
        "    batch_size = 64,\n",
        "    epochs = 200,\n",
        "    validation_data = (X_test, y_test),\n",
        "    shuffle = True\n",
        ")"
      ],
      "execution_count": 70,
      "outputs": [
        {
          "output_type": "stream",
          "text": [
            "Epoch 1/200\n",
            "782/782 [==============================] - 6s 8ms/step - loss: 2.2099 - accuracy: 0.1605 - val_loss: 1.9932 - val_accuracy: 0.2819\n",
            "Epoch 2/200\n",
            "782/782 [==============================] - 6s 8ms/step - loss: 1.8946 - accuracy: 0.2873 - val_loss: 1.7040 - val_accuracy: 0.3820\n",
            "Epoch 3/200\n",
            "782/782 [==============================] - 6s 8ms/step - loss: 1.7367 - accuracy: 0.3479 - val_loss: 1.6005 - val_accuracy: 0.4112\n",
            "Epoch 4/200\n",
            "782/782 [==============================] - 6s 8ms/step - loss: 1.6334 - accuracy: 0.3915 - val_loss: 1.4820 - val_accuracy: 0.4586\n",
            "Epoch 5/200\n",
            "782/782 [==============================] - 6s 8ms/step - loss: 1.5542 - accuracy: 0.4241 - val_loss: 1.4518 - val_accuracy: 0.4697\n",
            "Epoch 6/200\n",
            "782/782 [==============================] - 6s 8ms/step - loss: 1.4873 - accuracy: 0.4509 - val_loss: 1.3443 - val_accuracy: 0.5117\n",
            "Epoch 7/200\n",
            "782/782 [==============================] - 6s 8ms/step - loss: 1.4390 - accuracy: 0.4746 - val_loss: 1.3295 - val_accuracy: 0.5182\n",
            "Epoch 8/200\n",
            "782/782 [==============================] - 6s 8ms/step - loss: 1.3908 - accuracy: 0.4916 - val_loss: 1.2770 - val_accuracy: 0.5326\n",
            "Epoch 9/200\n",
            "782/782 [==============================] - 6s 8ms/step - loss: 1.3481 - accuracy: 0.5121 - val_loss: 1.1984 - val_accuracy: 0.5731\n",
            "Epoch 10/200\n",
            "782/782 [==============================] - 6s 8ms/step - loss: 1.3080 - accuracy: 0.5266 - val_loss: 1.1648 - val_accuracy: 0.5833\n",
            "Epoch 11/200\n",
            "782/782 [==============================] - 6s 8ms/step - loss: 1.2667 - accuracy: 0.5421 - val_loss: 1.1280 - val_accuracy: 0.5914\n",
            "Epoch 12/200\n",
            "782/782 [==============================] - 6s 8ms/step - loss: 1.2236 - accuracy: 0.5592 - val_loss: 1.0926 - val_accuracy: 0.6123\n",
            "Epoch 13/200\n",
            "782/782 [==============================] - 6s 8ms/step - loss: 1.1910 - accuracy: 0.5738 - val_loss: 1.0250 - val_accuracy: 0.6353\n",
            "Epoch 14/200\n",
            "782/782 [==============================] - 6s 8ms/step - loss: 1.1552 - accuracy: 0.5887 - val_loss: 1.0169 - val_accuracy: 0.6348\n",
            "Epoch 15/200\n",
            "782/782 [==============================] - 6s 8ms/step - loss: 1.1179 - accuracy: 0.6014 - val_loss: 0.9874 - val_accuracy: 0.6453\n",
            "Epoch 16/200\n",
            "782/782 [==============================] - 6s 8ms/step - loss: 1.0896 - accuracy: 0.6128 - val_loss: 1.0162 - val_accuracy: 0.6458\n",
            "Epoch 17/200\n",
            "782/782 [==============================] - 6s 8ms/step - loss: 1.0612 - accuracy: 0.6225 - val_loss: 0.9340 - val_accuracy: 0.6659\n",
            "Epoch 18/200\n",
            "782/782 [==============================] - 6s 8ms/step - loss: 1.0380 - accuracy: 0.6321 - val_loss: 0.9276 - val_accuracy: 0.6695\n",
            "Epoch 19/200\n",
            "782/782 [==============================] - 6s 8ms/step - loss: 1.0183 - accuracy: 0.6397 - val_loss: 0.8764 - val_accuracy: 0.6889\n",
            "Epoch 20/200\n",
            "782/782 [==============================] - 6s 8ms/step - loss: 0.9950 - accuracy: 0.6484 - val_loss: 0.8751 - val_accuracy: 0.6909\n",
            "Epoch 21/200\n",
            "782/782 [==============================] - 6s 8ms/step - loss: 0.9764 - accuracy: 0.6554 - val_loss: 0.8579 - val_accuracy: 0.6924\n",
            "Epoch 22/200\n",
            "782/782 [==============================] - 6s 8ms/step - loss: 0.9559 - accuracy: 0.6644 - val_loss: 0.8341 - val_accuracy: 0.7017\n",
            "Epoch 23/200\n",
            "782/782 [==============================] - 6s 8ms/step - loss: 0.9352 - accuracy: 0.6718 - val_loss: 0.8275 - val_accuracy: 0.7061\n",
            "Epoch 24/200\n",
            "782/782 [==============================] - 6s 8ms/step - loss: 0.9205 - accuracy: 0.6766 - val_loss: 0.8718 - val_accuracy: 0.6862\n",
            "Epoch 25/200\n",
            "782/782 [==============================] - 6s 8ms/step - loss: 0.8996 - accuracy: 0.6835 - val_loss: 0.7867 - val_accuracy: 0.7202\n",
            "Epoch 26/200\n",
            "782/782 [==============================] - 6s 8ms/step - loss: 0.8887 - accuracy: 0.6865 - val_loss: 0.7590 - val_accuracy: 0.7355\n",
            "Epoch 27/200\n",
            "782/782 [==============================] - 6s 8ms/step - loss: 0.8743 - accuracy: 0.6933 - val_loss: 0.8036 - val_accuracy: 0.7105\n",
            "Epoch 28/200\n",
            "782/782 [==============================] - 6s 8ms/step - loss: 0.8600 - accuracy: 0.6999 - val_loss: 0.7399 - val_accuracy: 0.7396\n",
            "Epoch 29/200\n",
            "782/782 [==============================] - 6s 8ms/step - loss: 0.8455 - accuracy: 0.7028 - val_loss: 0.7620 - val_accuracy: 0.7270\n",
            "Epoch 30/200\n",
            "782/782 [==============================] - 6s 8ms/step - loss: 0.8306 - accuracy: 0.7101 - val_loss: 0.7372 - val_accuracy: 0.7359\n",
            "Epoch 31/200\n",
            "782/782 [==============================] - 6s 8ms/step - loss: 0.8208 - accuracy: 0.7118 - val_loss: 0.7461 - val_accuracy: 0.7350\n",
            "Epoch 32/200\n",
            "782/782 [==============================] - 6s 8ms/step - loss: 0.8052 - accuracy: 0.7188 - val_loss: 0.7045 - val_accuracy: 0.7519\n",
            "Epoch 33/200\n",
            "782/782 [==============================] - 6s 8ms/step - loss: 0.7927 - accuracy: 0.7239 - val_loss: 0.6912 - val_accuracy: 0.7544\n",
            "Epoch 34/200\n",
            "782/782 [==============================] - 6s 8ms/step - loss: 0.7814 - accuracy: 0.7270 - val_loss: 0.6893 - val_accuracy: 0.7569\n",
            "Epoch 35/200\n",
            "782/782 [==============================] - 6s 8ms/step - loss: 0.7760 - accuracy: 0.7271 - val_loss: 0.6931 - val_accuracy: 0.7556\n",
            "Epoch 36/200\n",
            "782/782 [==============================] - 6s 8ms/step - loss: 0.7651 - accuracy: 0.7300 - val_loss: 0.6890 - val_accuracy: 0.7590\n",
            "Epoch 37/200\n",
            "782/782 [==============================] - 6s 8ms/step - loss: 0.7507 - accuracy: 0.7353 - val_loss: 0.6732 - val_accuracy: 0.7658\n",
            "Epoch 38/200\n",
            "782/782 [==============================] - 6s 8ms/step - loss: 0.7490 - accuracy: 0.7358 - val_loss: 0.6602 - val_accuracy: 0.7644\n",
            "Epoch 39/200\n",
            "782/782 [==============================] - 6s 8ms/step - loss: 0.7335 - accuracy: 0.7438 - val_loss: 0.6697 - val_accuracy: 0.7627\n",
            "Epoch 40/200\n",
            "782/782 [==============================] - 6s 8ms/step - loss: 0.7259 - accuracy: 0.7486 - val_loss: 0.6791 - val_accuracy: 0.7613\n",
            "Epoch 41/200\n",
            "782/782 [==============================] - 6s 8ms/step - loss: 0.7163 - accuracy: 0.7476 - val_loss: 0.6532 - val_accuracy: 0.7742\n",
            "Epoch 42/200\n",
            "782/782 [==============================] - 6s 8ms/step - loss: 0.7133 - accuracy: 0.7507 - val_loss: 0.6362 - val_accuracy: 0.7736\n",
            "Epoch 43/200\n",
            "782/782 [==============================] - 6s 8ms/step - loss: 0.7028 - accuracy: 0.7545 - val_loss: 0.6363 - val_accuracy: 0.7784\n",
            "Epoch 44/200\n",
            "782/782 [==============================] - 6s 8ms/step - loss: 0.7038 - accuracy: 0.7571 - val_loss: 0.6316 - val_accuracy: 0.7788\n",
            "Epoch 45/200\n",
            "782/782 [==============================] - 6s 8ms/step - loss: 0.6864 - accuracy: 0.7603 - val_loss: 0.6403 - val_accuracy: 0.7791\n",
            "Epoch 46/200\n",
            "782/782 [==============================] - 6s 8ms/step - loss: 0.6843 - accuracy: 0.7604 - val_loss: 0.6147 - val_accuracy: 0.7839\n",
            "Epoch 47/200\n",
            "782/782 [==============================] - 6s 8ms/step - loss: 0.6706 - accuracy: 0.7660 - val_loss: 0.6263 - val_accuracy: 0.7795\n",
            "Epoch 48/200\n",
            "782/782 [==============================] - 6s 8ms/step - loss: 0.6636 - accuracy: 0.7693 - val_loss: 0.6056 - val_accuracy: 0.7894\n",
            "Epoch 49/200\n",
            "782/782 [==============================] - 6s 8ms/step - loss: 0.6555 - accuracy: 0.7708 - val_loss: 0.6074 - val_accuracy: 0.7869\n",
            "Epoch 50/200\n",
            "782/782 [==============================] - 6s 8ms/step - loss: 0.6484 - accuracy: 0.7741 - val_loss: 0.5887 - val_accuracy: 0.7952\n",
            "Epoch 51/200\n",
            "782/782 [==============================] - 6s 8ms/step - loss: 0.6470 - accuracy: 0.7757 - val_loss: 0.6158 - val_accuracy: 0.7849\n",
            "Epoch 52/200\n",
            "782/782 [==============================] - 6s 8ms/step - loss: 0.6383 - accuracy: 0.7782 - val_loss: 0.5882 - val_accuracy: 0.7947\n",
            "Epoch 53/200\n",
            "782/782 [==============================] - 6s 8ms/step - loss: 0.6330 - accuracy: 0.7795 - val_loss: 0.6024 - val_accuracy: 0.7897\n",
            "Epoch 54/200\n",
            "782/782 [==============================] - 6s 8ms/step - loss: 0.6260 - accuracy: 0.7802 - val_loss: 0.5800 - val_accuracy: 0.7941\n",
            "Epoch 55/200\n",
            "782/782 [==============================] - 6s 8ms/step - loss: 0.6157 - accuracy: 0.7857 - val_loss: 0.5789 - val_accuracy: 0.7981\n",
            "Epoch 56/200\n",
            "782/782 [==============================] - 6s 8ms/step - loss: 0.6144 - accuracy: 0.7855 - val_loss: 0.5940 - val_accuracy: 0.7941\n",
            "Epoch 57/200\n",
            "782/782 [==============================] - 6s 8ms/step - loss: 0.6052 - accuracy: 0.7905 - val_loss: 0.5879 - val_accuracy: 0.7969\n",
            "Epoch 58/200\n",
            "782/782 [==============================] - 6s 8ms/step - loss: 0.6008 - accuracy: 0.7907 - val_loss: 0.5688 - val_accuracy: 0.8035\n",
            "Epoch 59/200\n",
            "782/782 [==============================] - 6s 8ms/step - loss: 0.5953 - accuracy: 0.7898 - val_loss: 0.5675 - val_accuracy: 0.8058\n",
            "Epoch 60/200\n",
            "782/782 [==============================] - 6s 8ms/step - loss: 0.5948 - accuracy: 0.7942 - val_loss: 0.5660 - val_accuracy: 0.8028\n",
            "Epoch 61/200\n",
            "782/782 [==============================] - 6s 8ms/step - loss: 0.5830 - accuracy: 0.7953 - val_loss: 0.5770 - val_accuracy: 0.8030\n",
            "Epoch 62/200\n",
            "782/782 [==============================] - 6s 8ms/step - loss: 0.5826 - accuracy: 0.7968 - val_loss: 0.5606 - val_accuracy: 0.8085\n",
            "Epoch 63/200\n",
            "782/782 [==============================] - 6s 8ms/step - loss: 0.5758 - accuracy: 0.8012 - val_loss: 0.5491 - val_accuracy: 0.8118\n",
            "Epoch 64/200\n",
            "782/782 [==============================] - 6s 8ms/step - loss: 0.5725 - accuracy: 0.8014 - val_loss: 0.5525 - val_accuracy: 0.8123\n",
            "Epoch 65/200\n",
            "782/782 [==============================] - 6s 8ms/step - loss: 0.5651 - accuracy: 0.8034 - val_loss: 0.5509 - val_accuracy: 0.8106\n",
            "Epoch 66/200\n",
            "782/782 [==============================] - 6s 8ms/step - loss: 0.5605 - accuracy: 0.8043 - val_loss: 0.5566 - val_accuracy: 0.8102\n",
            "Epoch 67/200\n",
            "782/782 [==============================] - 6s 8ms/step - loss: 0.5542 - accuracy: 0.8081 - val_loss: 0.5566 - val_accuracy: 0.8082\n",
            "Epoch 68/200\n",
            "782/782 [==============================] - 6s 8ms/step - loss: 0.5477 - accuracy: 0.8099 - val_loss: 0.5542 - val_accuracy: 0.8097\n",
            "Epoch 69/200\n",
            "782/782 [==============================] - 6s 8ms/step - loss: 0.5470 - accuracy: 0.8084 - val_loss: 0.5463 - val_accuracy: 0.8120\n",
            "Epoch 70/200\n",
            "782/782 [==============================] - 6s 8ms/step - loss: 0.5383 - accuracy: 0.8109 - val_loss: 0.5466 - val_accuracy: 0.8147\n",
            "Epoch 71/200\n",
            "782/782 [==============================] - 6s 8ms/step - loss: 0.5389 - accuracy: 0.8116 - val_loss: 0.5329 - val_accuracy: 0.8174\n",
            "Epoch 72/200\n",
            "782/782 [==============================] - 6s 8ms/step - loss: 0.5312 - accuracy: 0.8162 - val_loss: 0.5448 - val_accuracy: 0.8135\n",
            "Epoch 73/200\n",
            "782/782 [==============================] - 6s 8ms/step - loss: 0.5277 - accuracy: 0.8155 - val_loss: 0.5347 - val_accuracy: 0.8172\n",
            "Epoch 74/200\n",
            "782/782 [==============================] - 6s 8ms/step - loss: 0.5225 - accuracy: 0.8184 - val_loss: 0.5322 - val_accuracy: 0.8194\n",
            "Epoch 75/200\n",
            "782/782 [==============================] - 6s 8ms/step - loss: 0.5187 - accuracy: 0.8196 - val_loss: 0.5406 - val_accuracy: 0.8187\n",
            "Epoch 76/200\n",
            "782/782 [==============================] - 6s 8ms/step - loss: 0.5175 - accuracy: 0.8205 - val_loss: 0.5375 - val_accuracy: 0.8172\n",
            "Epoch 77/200\n",
            "782/782 [==============================] - 6s 8ms/step - loss: 0.5122 - accuracy: 0.8194 - val_loss: 0.5496 - val_accuracy: 0.8139\n",
            "Epoch 78/200\n",
            "782/782 [==============================] - 6s 8ms/step - loss: 0.5043 - accuracy: 0.8241 - val_loss: 0.5337 - val_accuracy: 0.8176\n",
            "Epoch 79/200\n",
            "782/782 [==============================] - 6s 8ms/step - loss: 0.5060 - accuracy: 0.8232 - val_loss: 0.5205 - val_accuracy: 0.8195\n",
            "Epoch 80/200\n",
            "782/782 [==============================] - 6s 8ms/step - loss: 0.4980 - accuracy: 0.8266 - val_loss: 0.5347 - val_accuracy: 0.8186\n",
            "Epoch 81/200\n",
            "782/782 [==============================] - 6s 8ms/step - loss: 0.4931 - accuracy: 0.8270 - val_loss: 0.5340 - val_accuracy: 0.8193\n",
            "Epoch 82/200\n",
            "782/782 [==============================] - 6s 8ms/step - loss: 0.4853 - accuracy: 0.8279 - val_loss: 0.5301 - val_accuracy: 0.8199\n",
            "Epoch 83/200\n",
            "782/782 [==============================] - 6s 8ms/step - loss: 0.4894 - accuracy: 0.8292 - val_loss: 0.5292 - val_accuracy: 0.8207\n",
            "Epoch 84/200\n",
            "782/782 [==============================] - 6s 8ms/step - loss: 0.4840 - accuracy: 0.8325 - val_loss: 0.5411 - val_accuracy: 0.8191\n",
            "Epoch 85/200\n",
            "782/782 [==============================] - 6s 8ms/step - loss: 0.4776 - accuracy: 0.8332 - val_loss: 0.5258 - val_accuracy: 0.8200\n",
            "Epoch 86/200\n",
            "782/782 [==============================] - 6s 8ms/step - loss: 0.4754 - accuracy: 0.8342 - val_loss: 0.5215 - val_accuracy: 0.8245\n",
            "Epoch 87/200\n",
            "782/782 [==============================] - 6s 8ms/step - loss: 0.4676 - accuracy: 0.8363 - val_loss: 0.5023 - val_accuracy: 0.8303\n",
            "Epoch 88/200\n",
            "782/782 [==============================] - 6s 8ms/step - loss: 0.4683 - accuracy: 0.8356 - val_loss: 0.5109 - val_accuracy: 0.8278\n",
            "Epoch 89/200\n",
            "782/782 [==============================] - 6s 8ms/step - loss: 0.4658 - accuracy: 0.8362 - val_loss: 0.4985 - val_accuracy: 0.8306\n",
            "Epoch 90/200\n",
            "782/782 [==============================] - 6s 8ms/step - loss: 0.4628 - accuracy: 0.8395 - val_loss: 0.5125 - val_accuracy: 0.8281\n",
            "Epoch 91/200\n",
            "782/782 [==============================] - 6s 8ms/step - loss: 0.4566 - accuracy: 0.8414 - val_loss: 0.5128 - val_accuracy: 0.8283\n",
            "Epoch 92/200\n",
            "782/782 [==============================] - 6s 8ms/step - loss: 0.4574 - accuracy: 0.8416 - val_loss: 0.5087 - val_accuracy: 0.8288\n",
            "Epoch 93/200\n",
            "782/782 [==============================] - 6s 8ms/step - loss: 0.4505 - accuracy: 0.8421 - val_loss: 0.5074 - val_accuracy: 0.8291\n",
            "Epoch 94/200\n",
            "782/782 [==============================] - 6s 8ms/step - loss: 0.4519 - accuracy: 0.8401 - val_loss: 0.5127 - val_accuracy: 0.8288\n",
            "Epoch 95/200\n",
            "782/782 [==============================] - 6s 8ms/step - loss: 0.4436 - accuracy: 0.8427 - val_loss: 0.5002 - val_accuracy: 0.8292\n",
            "Epoch 96/200\n",
            "782/782 [==============================] - 6s 8ms/step - loss: 0.4373 - accuracy: 0.8458 - val_loss: 0.4928 - val_accuracy: 0.8334\n",
            "Epoch 97/200\n",
            "782/782 [==============================] - 6s 8ms/step - loss: 0.4337 - accuracy: 0.8461 - val_loss: 0.5128 - val_accuracy: 0.8323\n",
            "Epoch 98/200\n",
            "782/782 [==============================] - 6s 8ms/step - loss: 0.4342 - accuracy: 0.8469 - val_loss: 0.5000 - val_accuracy: 0.8319\n",
            "Epoch 99/200\n",
            "782/782 [==============================] - 6s 8ms/step - loss: 0.4311 - accuracy: 0.8481 - val_loss: 0.5076 - val_accuracy: 0.8274\n",
            "Epoch 100/200\n",
            "782/782 [==============================] - 6s 8ms/step - loss: 0.4239 - accuracy: 0.8487 - val_loss: 0.5181 - val_accuracy: 0.8300\n",
            "Epoch 101/200\n",
            "782/782 [==============================] - 6s 8ms/step - loss: 0.4223 - accuracy: 0.8513 - val_loss: 0.4946 - val_accuracy: 0.8358\n",
            "Epoch 102/200\n",
            "782/782 [==============================] - 6s 8ms/step - loss: 0.4274 - accuracy: 0.8493 - val_loss: 0.5074 - val_accuracy: 0.8312\n",
            "Epoch 103/200\n",
            "782/782 [==============================] - 6s 8ms/step - loss: 0.4216 - accuracy: 0.8517 - val_loss: 0.4927 - val_accuracy: 0.8350\n",
            "Epoch 104/200\n",
            "782/782 [==============================] - 6s 8ms/step - loss: 0.4195 - accuracy: 0.8525 - val_loss: 0.5196 - val_accuracy: 0.8274\n",
            "Epoch 105/200\n",
            "782/782 [==============================] - 6s 8ms/step - loss: 0.4098 - accuracy: 0.8572 - val_loss: 0.4981 - val_accuracy: 0.8310\n",
            "Epoch 106/200\n",
            "782/782 [==============================] - 6s 8ms/step - loss: 0.4113 - accuracy: 0.8545 - val_loss: 0.5129 - val_accuracy: 0.8327\n",
            "Epoch 107/200\n",
            "782/782 [==============================] - 6s 8ms/step - loss: 0.4111 - accuracy: 0.8557 - val_loss: 0.5000 - val_accuracy: 0.8343\n",
            "Epoch 108/200\n",
            "782/782 [==============================] - 6s 8ms/step - loss: 0.4087 - accuracy: 0.8558 - val_loss: 0.4909 - val_accuracy: 0.8359\n",
            "Epoch 109/200\n",
            "782/782 [==============================] - 6s 8ms/step - loss: 0.4037 - accuracy: 0.8581 - val_loss: 0.5158 - val_accuracy: 0.8322\n",
            "Epoch 110/200\n",
            "782/782 [==============================] - 6s 8ms/step - loss: 0.3967 - accuracy: 0.8595 - val_loss: 0.5302 - val_accuracy: 0.8308\n",
            "Epoch 111/200\n",
            "782/782 [==============================] - 6s 8ms/step - loss: 0.3964 - accuracy: 0.8607 - val_loss: 0.5191 - val_accuracy: 0.8324\n",
            "Epoch 112/200\n",
            "782/782 [==============================] - 6s 8ms/step - loss: 0.3957 - accuracy: 0.8606 - val_loss: 0.4884 - val_accuracy: 0.8421\n",
            "Epoch 113/200\n",
            "782/782 [==============================] - 6s 8ms/step - loss: 0.3865 - accuracy: 0.8637 - val_loss: 0.5110 - val_accuracy: 0.8313\n",
            "Epoch 114/200\n",
            "782/782 [==============================] - 6s 8ms/step - loss: 0.3902 - accuracy: 0.8614 - val_loss: 0.4834 - val_accuracy: 0.8390\n",
            "Epoch 115/200\n",
            "782/782 [==============================] - 6s 8ms/step - loss: 0.3835 - accuracy: 0.8650 - val_loss: 0.4949 - val_accuracy: 0.8394\n",
            "Epoch 116/200\n",
            "782/782 [==============================] - 6s 8ms/step - loss: 0.3851 - accuracy: 0.8638 - val_loss: 0.4888 - val_accuracy: 0.8389\n",
            "Epoch 117/200\n",
            "782/782 [==============================] - 6s 8ms/step - loss: 0.3813 - accuracy: 0.8663 - val_loss: 0.4926 - val_accuracy: 0.8379\n",
            "Epoch 118/200\n",
            "782/782 [==============================] - 6s 8ms/step - loss: 0.3805 - accuracy: 0.8659 - val_loss: 0.4926 - val_accuracy: 0.8379\n",
            "Epoch 119/200\n",
            "782/782 [==============================] - 6s 8ms/step - loss: 0.3778 - accuracy: 0.8660 - val_loss: 0.5063 - val_accuracy: 0.8327\n",
            "Epoch 120/200\n",
            "782/782 [==============================] - 6s 8ms/step - loss: 0.3769 - accuracy: 0.8677 - val_loss: 0.4822 - val_accuracy: 0.8400\n",
            "Epoch 121/200\n",
            "782/782 [==============================] - 6s 8ms/step - loss: 0.3730 - accuracy: 0.8678 - val_loss: 0.5008 - val_accuracy: 0.8374\n",
            "Epoch 122/200\n",
            "782/782 [==============================] - 6s 8ms/step - loss: 0.3672 - accuracy: 0.8704 - val_loss: 0.4851 - val_accuracy: 0.8403\n",
            "Epoch 123/200\n",
            "782/782 [==============================] - 6s 8ms/step - loss: 0.3638 - accuracy: 0.8708 - val_loss: 0.5022 - val_accuracy: 0.8380\n",
            "Epoch 124/200\n",
            "782/782 [==============================] - 6s 8ms/step - loss: 0.3670 - accuracy: 0.8725 - val_loss: 0.4996 - val_accuracy: 0.8373\n",
            "Epoch 125/200\n",
            "782/782 [==============================] - 6s 8ms/step - loss: 0.3591 - accuracy: 0.8724 - val_loss: 0.4823 - val_accuracy: 0.8425\n",
            "Epoch 126/200\n",
            "782/782 [==============================] - 6s 8ms/step - loss: 0.3570 - accuracy: 0.8737 - val_loss: 0.4905 - val_accuracy: 0.8422\n",
            "Epoch 127/200\n",
            "782/782 [==============================] - 6s 8ms/step - loss: 0.3563 - accuracy: 0.8743 - val_loss: 0.4950 - val_accuracy: 0.8414\n",
            "Epoch 128/200\n",
            "782/782 [==============================] - 6s 8ms/step - loss: 0.3552 - accuracy: 0.8745 - val_loss: 0.4992 - val_accuracy: 0.8372\n",
            "Epoch 129/200\n",
            "782/782 [==============================] - 6s 8ms/step - loss: 0.3493 - accuracy: 0.8764 - val_loss: 0.4953 - val_accuracy: 0.8399\n",
            "Epoch 130/200\n",
            "782/782 [==============================] - 6s 8ms/step - loss: 0.3495 - accuracy: 0.8766 - val_loss: 0.4922 - val_accuracy: 0.8405\n",
            "Epoch 131/200\n",
            "782/782 [==============================] - 6s 8ms/step - loss: 0.3478 - accuracy: 0.8770 - val_loss: 0.5143 - val_accuracy: 0.8362\n",
            "Epoch 132/200\n",
            "782/782 [==============================] - 6s 8ms/step - loss: 0.3432 - accuracy: 0.8781 - val_loss: 0.5030 - val_accuracy: 0.8426\n",
            "Epoch 133/200\n",
            "782/782 [==============================] - 6s 8ms/step - loss: 0.3458 - accuracy: 0.8783 - val_loss: 0.4919 - val_accuracy: 0.8368\n",
            "Epoch 134/200\n",
            "782/782 [==============================] - 6s 8ms/step - loss: 0.3410 - accuracy: 0.8779 - val_loss: 0.4991 - val_accuracy: 0.8445\n",
            "Epoch 135/200\n",
            "782/782 [==============================] - 6s 8ms/step - loss: 0.3378 - accuracy: 0.8797 - val_loss: 0.4917 - val_accuracy: 0.8407\n",
            "Epoch 136/200\n",
            "782/782 [==============================] - 6s 8ms/step - loss: 0.3401 - accuracy: 0.8799 - val_loss: 0.4962 - val_accuracy: 0.8423\n",
            "Epoch 137/200\n",
            "782/782 [==============================] - 6s 8ms/step - loss: 0.3355 - accuracy: 0.8814 - val_loss: 0.4921 - val_accuracy: 0.8442\n",
            "Epoch 138/200\n",
            "782/782 [==============================] - 6s 8ms/step - loss: 0.3304 - accuracy: 0.8829 - val_loss: 0.4894 - val_accuracy: 0.8438\n",
            "Epoch 139/200\n",
            "782/782 [==============================] - 6s 8ms/step - loss: 0.3255 - accuracy: 0.8852 - val_loss: 0.4980 - val_accuracy: 0.8427\n",
            "Epoch 140/200\n",
            "782/782 [==============================] - 6s 8ms/step - loss: 0.3271 - accuracy: 0.8833 - val_loss: 0.4891 - val_accuracy: 0.8450\n",
            "Epoch 141/200\n",
            "782/782 [==============================] - 6s 8ms/step - loss: 0.3264 - accuracy: 0.8832 - val_loss: 0.5088 - val_accuracy: 0.8399\n",
            "Epoch 142/200\n",
            "782/782 [==============================] - 6s 8ms/step - loss: 0.3271 - accuracy: 0.8840 - val_loss: 0.4877 - val_accuracy: 0.8458\n",
            "Epoch 143/200\n",
            "782/782 [==============================] - 6s 8ms/step - loss: 0.3269 - accuracy: 0.8847 - val_loss: 0.4903 - val_accuracy: 0.8497\n",
            "Epoch 144/200\n",
            "782/782 [==============================] - 6s 8ms/step - loss: 0.3201 - accuracy: 0.8859 - val_loss: 0.4980 - val_accuracy: 0.8443\n",
            "Epoch 145/200\n",
            "782/782 [==============================] - 6s 8ms/step - loss: 0.3243 - accuracy: 0.8843 - val_loss: 0.4924 - val_accuracy: 0.8435\n",
            "Epoch 146/200\n",
            "782/782 [==============================] - 6s 8ms/step - loss: 0.3145 - accuracy: 0.8869 - val_loss: 0.4863 - val_accuracy: 0.8429\n",
            "Epoch 147/200\n",
            "782/782 [==============================] - 6s 8ms/step - loss: 0.3165 - accuracy: 0.8884 - val_loss: 0.4946 - val_accuracy: 0.8471\n",
            "Epoch 148/200\n",
            "782/782 [==============================] - 6s 8ms/step - loss: 0.3092 - accuracy: 0.8903 - val_loss: 0.5037 - val_accuracy: 0.8465\n",
            "Epoch 149/200\n",
            "782/782 [==============================] - 6s 8ms/step - loss: 0.3125 - accuracy: 0.8877 - val_loss: 0.4955 - val_accuracy: 0.8450\n",
            "Epoch 150/200\n",
            "782/782 [==============================] - 6s 8ms/step - loss: 0.3118 - accuracy: 0.8884 - val_loss: 0.4894 - val_accuracy: 0.8477\n",
            "Epoch 151/200\n",
            "782/782 [==============================] - 6s 8ms/step - loss: 0.3047 - accuracy: 0.8921 - val_loss: 0.4907 - val_accuracy: 0.8431\n",
            "Epoch 152/200\n",
            "782/782 [==============================] - 6s 8ms/step - loss: 0.3083 - accuracy: 0.8905 - val_loss: 0.4966 - val_accuracy: 0.8444\n",
            "Epoch 153/200\n",
            "782/782 [==============================] - 6s 8ms/step - loss: 0.3024 - accuracy: 0.8933 - val_loss: 0.4933 - val_accuracy: 0.8445\n",
            "Epoch 154/200\n",
            "782/782 [==============================] - 6s 8ms/step - loss: 0.3015 - accuracy: 0.8943 - val_loss: 0.4987 - val_accuracy: 0.8427\n",
            "Epoch 155/200\n",
            "782/782 [==============================] - 6s 8ms/step - loss: 0.3015 - accuracy: 0.8929 - val_loss: 0.4964 - val_accuracy: 0.8476\n",
            "Epoch 156/200\n",
            "782/782 [==============================] - 6s 8ms/step - loss: 0.2948 - accuracy: 0.8940 - val_loss: 0.4983 - val_accuracy: 0.8495\n",
            "Epoch 157/200\n",
            "782/782 [==============================] - 6s 8ms/step - loss: 0.3020 - accuracy: 0.8926 - val_loss: 0.4961 - val_accuracy: 0.8433\n",
            "Epoch 158/200\n",
            "782/782 [==============================] - 6s 8ms/step - loss: 0.3002 - accuracy: 0.8938 - val_loss: 0.5007 - val_accuracy: 0.8460\n",
            "Epoch 159/200\n",
            "782/782 [==============================] - 6s 8ms/step - loss: 0.2962 - accuracy: 0.8935 - val_loss: 0.4958 - val_accuracy: 0.8462\n",
            "Epoch 160/200\n",
            "782/782 [==============================] - 6s 8ms/step - loss: 0.2884 - accuracy: 0.8977 - val_loss: 0.5109 - val_accuracy: 0.8458\n",
            "Epoch 161/200\n",
            "782/782 [==============================] - 6s 8ms/step - loss: 0.2937 - accuracy: 0.8964 - val_loss: 0.5001 - val_accuracy: 0.8449\n",
            "Epoch 162/200\n",
            "782/782 [==============================] - 6s 8ms/step - loss: 0.2853 - accuracy: 0.8971 - val_loss: 0.5217 - val_accuracy: 0.8423\n",
            "Epoch 163/200\n",
            "782/782 [==============================] - 6s 8ms/step - loss: 0.2851 - accuracy: 0.8985 - val_loss: 0.5054 - val_accuracy: 0.8466\n",
            "Epoch 164/200\n",
            "782/782 [==============================] - 6s 8ms/step - loss: 0.2826 - accuracy: 0.8995 - val_loss: 0.4933 - val_accuracy: 0.8504\n",
            "Epoch 165/200\n",
            "782/782 [==============================] - 6s 8ms/step - loss: 0.2817 - accuracy: 0.9003 - val_loss: 0.5032 - val_accuracy: 0.8453\n",
            "Epoch 166/200\n",
            "782/782 [==============================] - 6s 8ms/step - loss: 0.2837 - accuracy: 0.8998 - val_loss: 0.5065 - val_accuracy: 0.8463\n",
            "Epoch 167/200\n",
            "782/782 [==============================] - 6s 8ms/step - loss: 0.2795 - accuracy: 0.9002 - val_loss: 0.5193 - val_accuracy: 0.8418\n",
            "Epoch 168/200\n",
            "782/782 [==============================] - 6s 8ms/step - loss: 0.2791 - accuracy: 0.9005 - val_loss: 0.5064 - val_accuracy: 0.8429\n",
            "Epoch 169/200\n",
            "782/782 [==============================] - 6s 8ms/step - loss: 0.2745 - accuracy: 0.9012 - val_loss: 0.4973 - val_accuracy: 0.8461\n",
            "Epoch 170/200\n",
            "782/782 [==============================] - 6s 8ms/step - loss: 0.2728 - accuracy: 0.9029 - val_loss: 0.5195 - val_accuracy: 0.8463\n",
            "Epoch 171/200\n",
            "782/782 [==============================] - 6s 8ms/step - loss: 0.2770 - accuracy: 0.9001 - val_loss: 0.5134 - val_accuracy: 0.8495\n",
            "Epoch 172/200\n",
            "782/782 [==============================] - 6s 8ms/step - loss: 0.2698 - accuracy: 0.9043 - val_loss: 0.5063 - val_accuracy: 0.8471\n",
            "Epoch 173/200\n",
            "782/782 [==============================] - 6s 8ms/step - loss: 0.2692 - accuracy: 0.9027 - val_loss: 0.4981 - val_accuracy: 0.8511\n",
            "Epoch 174/200\n",
            "782/782 [==============================] - 6s 8ms/step - loss: 0.2667 - accuracy: 0.9036 - val_loss: 0.5251 - val_accuracy: 0.8432\n",
            "Epoch 175/200\n",
            "782/782 [==============================] - 6s 8ms/step - loss: 0.2686 - accuracy: 0.9045 - val_loss: 0.5351 - val_accuracy: 0.8416\n",
            "Epoch 176/200\n",
            "782/782 [==============================] - 6s 8ms/step - loss: 0.2643 - accuracy: 0.9056 - val_loss: 0.5097 - val_accuracy: 0.8469\n",
            "Epoch 177/200\n",
            "782/782 [==============================] - 6s 8ms/step - loss: 0.2619 - accuracy: 0.9064 - val_loss: 0.5176 - val_accuracy: 0.8482\n",
            "Epoch 178/200\n",
            "782/782 [==============================] - 6s 8ms/step - loss: 0.2643 - accuracy: 0.9055 - val_loss: 0.5047 - val_accuracy: 0.8482\n",
            "Epoch 179/200\n",
            "782/782 [==============================] - 6s 8ms/step - loss: 0.2596 - accuracy: 0.9066 - val_loss: 0.4993 - val_accuracy: 0.8460\n",
            "Epoch 180/200\n",
            "782/782 [==============================] - 6s 8ms/step - loss: 0.2659 - accuracy: 0.9042 - val_loss: 0.5135 - val_accuracy: 0.8443\n",
            "Epoch 181/200\n",
            "782/782 [==============================] - 6s 8ms/step - loss: 0.2570 - accuracy: 0.9071 - val_loss: 0.5091 - val_accuracy: 0.8480\n",
            "Epoch 182/200\n",
            "782/782 [==============================] - 6s 8ms/step - loss: 0.2612 - accuracy: 0.9070 - val_loss: 0.5322 - val_accuracy: 0.8426\n",
            "Epoch 183/200\n",
            "782/782 [==============================] - 6s 8ms/step - loss: 0.2548 - accuracy: 0.9089 - val_loss: 0.4972 - val_accuracy: 0.8491\n",
            "Epoch 184/200\n",
            "782/782 [==============================] - 6s 8ms/step - loss: 0.2564 - accuracy: 0.9082 - val_loss: 0.5028 - val_accuracy: 0.8495\n",
            "Epoch 185/200\n",
            "782/782 [==============================] - 6s 8ms/step - loss: 0.2545 - accuracy: 0.9094 - val_loss: 0.4991 - val_accuracy: 0.8509\n",
            "Epoch 186/200\n",
            "782/782 [==============================] - 6s 8ms/step - loss: 0.2527 - accuracy: 0.9098 - val_loss: 0.5151 - val_accuracy: 0.8447\n",
            "Epoch 187/200\n",
            "782/782 [==============================] - 6s 8ms/step - loss: 0.2478 - accuracy: 0.9113 - val_loss: 0.5119 - val_accuracy: 0.8469\n",
            "Epoch 188/200\n",
            "782/782 [==============================] - 6s 8ms/step - loss: 0.2496 - accuracy: 0.9104 - val_loss: 0.5025 - val_accuracy: 0.8518\n",
            "Epoch 189/200\n",
            "782/782 [==============================] - 6s 8ms/step - loss: 0.2452 - accuracy: 0.9121 - val_loss: 0.5042 - val_accuracy: 0.8481\n",
            "Epoch 190/200\n",
            "782/782 [==============================] - 6s 8ms/step - loss: 0.2508 - accuracy: 0.9105 - val_loss: 0.5299 - val_accuracy: 0.8479\n",
            "Epoch 191/200\n",
            "782/782 [==============================] - 6s 8ms/step - loss: 0.2471 - accuracy: 0.9111 - val_loss: 0.5197 - val_accuracy: 0.8487\n",
            "Epoch 192/200\n",
            "782/782 [==============================] - 6s 8ms/step - loss: 0.2443 - accuracy: 0.9122 - val_loss: 0.5014 - val_accuracy: 0.8526\n",
            "Epoch 193/200\n",
            "782/782 [==============================] - 6s 8ms/step - loss: 0.2443 - accuracy: 0.9132 - val_loss: 0.5273 - val_accuracy: 0.8437\n",
            "Epoch 194/200\n",
            "782/782 [==============================] - 6s 8ms/step - loss: 0.2468 - accuracy: 0.9125 - val_loss: 0.5123 - val_accuracy: 0.8497\n",
            "Epoch 195/200\n",
            "782/782 [==============================] - 6s 8ms/step - loss: 0.2369 - accuracy: 0.9153 - val_loss: 0.5176 - val_accuracy: 0.8481\n",
            "Epoch 196/200\n",
            "782/782 [==============================] - 6s 8ms/step - loss: 0.2394 - accuracy: 0.9140 - val_loss: 0.5183 - val_accuracy: 0.8521\n",
            "Epoch 197/200\n",
            "782/782 [==============================] - 6s 8ms/step - loss: 0.2417 - accuracy: 0.9138 - val_loss: 0.5250 - val_accuracy: 0.8470\n",
            "Epoch 198/200\n",
            "782/782 [==============================] - 6s 8ms/step - loss: 0.2369 - accuracy: 0.9152 - val_loss: 0.5192 - val_accuracy: 0.8486\n",
            "Epoch 199/200\n",
            "782/782 [==============================] - 6s 8ms/step - loss: 0.2344 - accuracy: 0.9164 - val_loss: 0.5095 - val_accuracy: 0.8490\n",
            "Epoch 200/200\n",
            "782/782 [==============================] - 6s 8ms/step - loss: 0.2341 - accuracy: 0.9162 - val_loss: 0.5467 - val_accuracy: 0.8468\n"
          ],
          "name": "stdout"
        }
      ]
    },
    {
      "cell_type": "markdown",
      "metadata": {
        "id": "EaSNmb4jcRs8",
        "colab_type": "text"
      },
      "source": [
        "## Making prediction on the data\n"
      ]
    },
    {
      "cell_type": "code",
      "metadata": {
        "id": "RSypHZIKdlGo",
        "colab_type": "code",
        "outputId": "f6b47453-b2b6-4ea2-91ca-5a686c756fe7",
        "colab": {
          "base_uri": "https://localhost:8080/",
          "height": 34
        }
      },
      "source": [
        "from keras.preprocessing import image\n",
        "import numpy as np\n",
        "\n",
        "class_labels = [\n",
        "                \"plane\",\n",
        "                \"car\",\n",
        "                \"bird\",\n",
        "                \"cat\",\n",
        "                \"deer\",\n",
        "                \"dog\",\n",
        "                \"frog\",\n",
        "                \"horse\",\n",
        "                \"boat\",\n",
        "                \"truck\"\n",
        "]\n",
        "\n",
        "img = image.load_img(\"/content/drive/My Drive/linkdin-notebook/cat.png\", target_size=(32, 32))\n",
        "\n",
        "image_test = image.img_to_array(img)\n",
        "\n",
        "list_image = np.expand_dims(image_test, axis = 0)\n",
        "\n",
        "#list_image = list_image.astype(\"float32\")\n",
        "results = model.predict(list_image)\n",
        "\n",
        "single_result = results[0]\n",
        "\n",
        "most_likely_class_index = int(np.argmax(single_result))\n",
        "class_likelihood = single_result[most_likely_class_index]\n",
        "\n",
        "class_label = class_labels[most_likely_class_index]\n",
        "\n",
        "print(\"This is image is a {} - Likelihood: {:2f}\".format(class_label, class_likelihood))"
      ],
      "execution_count": 85,
      "outputs": [
        {
          "output_type": "stream",
          "text": [
            "This is image is a cat - Likelihood: 1.000000\n"
          ],
          "name": "stdout"
        }
      ]
    },
    {
      "cell_type": "code",
      "metadata": {
        "id": "N6IOs7PHW8gq",
        "colab_type": "code",
        "colab": {
          "base_uri": "https://localhost:8080/",
          "height": 34
        },
        "outputId": "872fe8bf-35ed-4f6a-86a8-f7acb89a14e0"
      },
      "source": [
        "single_result"
      ],
      "execution_count": 83,
      "outputs": [
        {
          "output_type": "execute_result",
          "data": {
            "text/plain": [
              "array([0., 0., 0., 0., 0., 1., 0., 0., 0., 0.], dtype=float32)"
            ]
          },
          "metadata": {
            "tags": []
          },
          "execution_count": 83
        }
      ]
    },
    {
      "cell_type": "code",
      "metadata": {
        "id": "43WvWOk7Q-Kh",
        "colab_type": "code",
        "colab": {
          "base_uri": "https://localhost:8080/",
          "height": 282
        },
        "outputId": "d32d618c-603c-4af2-f2aa-b563832d85ce"
      },
      "source": [
        "import matplotlib.pyplot as plt\n",
        "plt.plot(history.history['loss'], color = 'blue', label = \"train\")\n",
        "plt.plot(history.history['val_loss'], color = \"orange\", label = 'test')\n",
        "\n",
        "\n",
        "plt.plot(history.history['accuracy'], color='blue', label='train')\n",
        "plt.plot(history.history['val_accuracy'], color='orange', label='test')"
      ],
      "execution_count": 84,
      "outputs": [
        {
          "output_type": "execute_result",
          "data": {
            "text/plain": [
              "[<matplotlib.lines.Line2D at 0x7f02b8090c18>]"
            ]
          },
          "metadata": {
            "tags": []
          },
          "execution_count": 84
        },
        {
          "output_type": "display_data",
          "data": {
            "image/png": "[encoded data removed]",
            "text/plain": [
              "<Figure size 432x288 with 1 Axes>"
            ]
          },
          "metadata": {
            "tags": [],
            "needs_background": "light"
          }
        }
      ]
    },
    {
      "cell_type": "markdown",
      "metadata": {
        "id": "02fvusXD90wn",
        "colab_type": "text"
      },
      "source": [
        "## Using the vgg16 model to predict the data"
      ]
    },
    {
      "cell_type": "code",
      "metadata": {
        "id": "NfyuCyK0UObf",
        "colab_type": "code",
        "colab": {
          "base_uri": "https://localhost:8080/",
          "height": 173
        },
        "outputId": "15b73b63-b04b-43b7-889c-1ef8bf3616fe"
      },
      "source": [
        "## Using the pretrained model for image recognition\n",
        "import numpy as np\n",
        "from keras.preprocessing import image\n",
        "from keras.applications import vgg16\n",
        "\n",
        "#load keras vgg16 model that was pretrained against the imageNet database\n",
        "model = vgg16.VGG16()\n",
        "\n",
        "# load the image file , resizing it to 224*224\n",
        "img = image.load_img(\"/content/drive/My Drive/linkdin-notebook/animal-pet-cute-kitten-45201.jpg\", target_size = (224,224))\n",
        "\n",
        "# convert the image to a numpy array\n",
        "x = image.img_to_array(img)\n",
        "\n",
        "# Add a fourth dimensions( since keras expect the list of images)\n",
        "x = np.expand_dims(x, axis=0)\n",
        "\n",
        "#Normalize the imput pixel value to the range used when training the neural network\n",
        "x = vgg16.preprocess_input(x)\n",
        "\n",
        "# Run the image through the deep neural network to make the prediction\n",
        "predictions = model.predict(x)\n",
        "\n",
        "# Look the the names of predicted classes index zero is the result for the first prediction\n",
        "predicted_classes = vgg16.decode_predictions(predictions, top=9)\n",
        "\n",
        "for imagenet_id, name, liklihood in predicted_classes[0]:\n",
        "  print(\"predictions: {} - {:2f}\".format(name, liklihood))"
      ],
      "execution_count": 60,
      "outputs": [
        {
          "output_type": "stream",
          "text": [
            "predictions: Egyptian_cat - 0.388283\n",
            "predictions: tabby - 0.287608\n",
            "predictions: lynx - 0.109123\n",
            "predictions: Persian_cat - 0.079098\n",
            "predictions: tiger_cat - 0.061431\n",
            "predictions: laptop - 0.007686\n",
            "predictions: computer_keyboard - 0.005566\n",
            "predictions: doormat - 0.005422\n",
            "predictions: notebook - 0.004927\n"
          ],
          "name": "stdout"
        }
      ]
    },
    {
      "cell_type": "code",
      "metadata": {
        "id": "DBojl5kUbWGq",
        "colab_type": "code",
        "colab": {}
      },
      "source": [
        ""
      ],
      "execution_count": 0,
      "outputs": []
    }
  ]
}